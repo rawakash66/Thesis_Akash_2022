{
 "cells": [
  {
   "cell_type": "markdown",
   "id": "241a333c",
   "metadata": {},
   "source": [
    "# Labelling script"
   ]
  },
  {
   "cell_type": "markdown",
   "id": "51225d1c",
   "metadata": {},
   "source": [
    "## Importing libraries"
   ]
  },
  {
   "cell_type": "code",
   "execution_count": 1,
   "id": "ed11932f",
   "metadata": {},
   "outputs": [],
   "source": [
    "import sys\n",
    "sys.path.insert(0, \"../script\")"
   ]
  },
  {
   "cell_type": "code",
   "execution_count": 2,
   "id": "a29d421a",
   "metadata": {},
   "outputs": [],
   "source": [
    "%matplotlib widget\n",
    "\n",
    "# import utility functions and classes\n",
    "from Labelling import *\n",
    "\n",
    "# other imports\n",
    "import matplotlib.pyplot as plt\n",
    "import numpy as np\n",
    "from sidecar import Sidecar"
   ]
  },
  {
   "cell_type": "markdown",
   "id": "b43f4226",
   "metadata": {},
   "source": [
    "## Create mask labels"
   ]
  },
  {
   "cell_type": "code",
   "execution_count": 3,
   "id": "a32d5a39",
   "metadata": {},
   "outputs": [
    {
     "data": {
      "application/vnd.jupyter.widget-view+json": {
       "model_id": "eb42aefbc198474fa23ed57b6b4dfbef",
       "version_major": 2,
       "version_minor": 0
      },
      "text/plain": [
       "VBox(children=(HBox(children=(Button(button_style='success', description='lasso select', icon='mouse-pointer',…"
      ]
     },
     "metadata": {},
     "output_type": "display_data"
    }
   ],
   "source": [
    "plt.close('all')\n",
    "\n",
    "# image segmenter class for creating mask\n",
    "obj = image_segmenter('../data/image_and_masks1/train_imgs', ['drop'])\n",
    "\n",
    "# sidecar for scroll control\n",
    "sc = Sidecar(title = 'segmentation area')\n",
    "\n",
    "with sc:\n",
    "    display(obj)"
   ]
  },
  {
   "cell_type": "code",
   "execution_count": null,
   "id": "51fd5163",
   "metadata": {},
   "outputs": [],
   "source": []
  }
 ],
 "metadata": {
  "kernelspec": {
   "display_name": "Python 3 (ipykernel)",
   "language": "python",
   "name": "python3"
  },
  "language_info": {
   "codemirror_mode": {
    "name": "ipython",
    "version": 3
   },
   "file_extension": ".py",
   "mimetype": "text/x-python",
   "name": "python",
   "nbconvert_exporter": "python",
   "pygments_lexer": "ipython3",
   "version": "3.9.7"
  }
 },
 "nbformat": 4,
 "nbformat_minor": 5
}
