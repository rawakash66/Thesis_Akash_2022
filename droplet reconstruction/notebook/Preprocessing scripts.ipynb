{
 "cells": [
  {
   "cell_type": "markdown",
   "id": "816b60db",
   "metadata": {},
   "source": [
    "# Preprocessing scripts"
   ]
  },
  {
   "cell_type": "code",
   "execution_count": 1,
   "id": "fb8e34e5",
   "metadata": {},
   "outputs": [],
   "source": [
    "from PIL import Image\n",
    "from tqdm import tqdm\n",
    "import shutil\n",
    "import os"
   ]
  },
  {
   "cell_type": "markdown",
   "id": "df32c7dc",
   "metadata": {},
   "source": [
    "## JPG or JPEG to PNG convert"
   ]
  },
  {
   "cell_type": "code",
   "execution_count": 2,
   "id": "891e8e63",
   "metadata": {},
   "outputs": [
    {
     "name": "stderr",
     "output_type": "stream",
     "text": [
      "100%|██████████████████████████████████████████████████████████████████████████████████| 45/45 [00:57<00:00,  1.28s/it]\n"
     ]
    }
   ],
   "source": [
    "source = \"C:/Users/uplcu/Downloads/Akash data/\"\n",
    "destination = \"C:/Users/uplcu/Downloads/images/\"\n",
    "if not os.path.exists(destination):\n",
    "    os.mkdir(destination)\n",
    "else:\n",
    "    shutil.rmtree(destination)\n",
    "\n",
    "for img in tqdm(sorted(os.listdir(source))):\n",
    "    if os.path.isdir(source + img):\n",
    "        continue\n",
    "    im1 = Image.open(source + img)\n",
    "    if img[-4:] == 'jpeg':\n",
    "        im1.save(destination + img[:-4] +'png')\n",
    "    else:\n",
    "        im1.save(destination + img[:-3] +'png')\n",
    "    "
   ]
  },
  {
   "cell_type": "markdown",
   "id": "2688a962",
   "metadata": {},
   "source": [
    "## Delete uncommon files"
   ]
  },
  {
   "cell_type": "code",
   "execution_count": 3,
   "id": "3e6e26a2",
   "metadata": {},
   "outputs": [
    {
     "name": "stderr",
     "output_type": "stream",
     "text": [
      "100%|█████████████████████████████████████████████████████████████████████████████| 121/121 [00:00<00:00, 40269.05it/s]"
     ]
    },
    {
     "name": "stdout",
     "output_type": "stream",
     "text": [
      "Deleted files 3\n"
     ]
    },
    {
     "name": "stderr",
     "output_type": "stream",
     "text": [
      "\n"
     ]
    }
   ],
   "source": [
    "#src = \"C:/Users/uplcu/Thesis/Pose Estimation Files/data/images_circle/\"\n",
    "#dst = \"C:/Users/uplcu/Thesis/Pose Estimation Files/data/tracked_points_circle/\"\n",
    "\n",
    "#src = \"C:/Users/uplcu/Thesis/Silhouette Extraction Files/data/image_and_masks1/train_mask/train/\"\n",
    "#dst = \"C:/Users/uplcu/Thesis/Silhouette Extraction Files/data/image_and_masks1/train_imgs/train/\"\n",
    "\n",
    "dstlist = os.listdir(dst)\n",
    "deleted_count = 0\n",
    "for file in tqdm(sorted(os.listdir(src))):\n",
    "    if file not in dstlist:\n",
    "        os.remove(src + file)\n",
    "        deleted_count += 1\n",
    "print(\"Deleted files\", deleted_count)"
   ]
  },
  {
   "cell_type": "markdown",
   "id": "4c166be3",
   "metadata": {},
   "source": [
    "## Resize image"
   ]
  },
  {
   "cell_type": "code",
   "execution_count": 5,
   "id": "7ffde06e",
   "metadata": {},
   "outputs": [
    {
     "name": "stderr",
     "output_type": "stream",
     "text": [
      "100%|██████████████████████████████████████████████████████████████████████████████████| 80/80 [00:19<00:00,  4.01it/s]\n"
     ]
    }
   ],
   "source": [
    "source = \"C:/Users/uplcu/Thesis/Camera Calibration Files/data/images_chessboard/\"\n",
    "destination = \"C:/Users/uplcu/Downloads/images/\"\n",
    "H, W = (1499, 1932)\n",
    "\n",
    "if not os.path.exists(destination):\n",
    "    os.mkdir(destination)\n",
    "else:\n",
    "    shutil.rmtree(destination)\n",
    "\n",
    "for img in tqdm(sorted(os.listdir(source))):\n",
    "    if os.path.isdir(source + img):\n",
    "        continue\n",
    "    im1 = Image.open(source + img)\n",
    "    im1 = im1.resize((W, H))\n",
    "    im1.save(destination + img[:-3] +'jpg')"
   ]
  },
  {
   "cell_type": "code",
   "execution_count": null,
   "id": "84eb8c55",
   "metadata": {},
   "outputs": [],
   "source": []
  }
 ],
 "metadata": {
  "kernelspec": {
   "display_name": "Python 3 (ipykernel)",
   "language": "python",
   "name": "python3"
  },
  "language_info": {
   "codemirror_mode": {
    "name": "ipython",
    "version": 3
   },
   "file_extension": ".py",
   "mimetype": "text/x-python",
   "name": "python",
   "nbconvert_exporter": "python",
   "pygments_lexer": "ipython3",
   "version": "3.9.7"
  }
 },
 "nbformat": 4,
 "nbformat_minor": 5
}
